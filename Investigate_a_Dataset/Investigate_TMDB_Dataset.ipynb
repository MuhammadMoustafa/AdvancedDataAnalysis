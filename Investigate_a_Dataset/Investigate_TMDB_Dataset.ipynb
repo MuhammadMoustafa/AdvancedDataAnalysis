{
 "cells": [
  {
   "cell_type": "markdown",
   "metadata": {},
   "source": [
    "# Project: Investigate a TMDB movie Dataset\n",
    "\n",
    "## Table of Contents\n",
    "<ul>\n",
    "<li><a href=\"#intro\">Introduction</a></li>\n",
    "<li><a href=\"#wrangling\">Data Wrangling</a></li>\n",
    "<li><a href=\"#eda\">Exploratory Data Analysis</a></li>\n",
    "<li><a href=\"#conclusions\">Conclusions</a></li>\n",
    "</ul>"
   ]
  },
  {
   "cell_type": "markdown",
   "metadata": {},
   "source": [
    "<a id='intro'></a>\n",
    "## Introduction\n",
    "\n",
    "### This data set contains information about 5,000 movies collected from The Movie Database (TMDb).\n",
    "#### The purpose of this analysis is to answer the following questions\n",
    "<ol>\n",
    "    <li>What are the effect of these factors on the revenue?</li>\n",
    "        <ul>\n",
    "            <li>Does recruiting more crew members have any effect on the outcoming revenue?</li>\n",
    "            <li>Does having more budget result in more revenue?</li>\n",
    "            <li>Which 5 years have achieved the largest revenue?</li>\n",
    "        </ul>\n",
    "    <br/>\n",
    "    <li>What are the effect of these factors on movie rating?</li>\n",
    "        <ul>\n",
    "            <li>Does having more cast members affect the rating?</li>\n",
    "            <li>Does the movie runtime affect the rating?</li>\n",
    "            <li>Which original language has higher movie rate?</li>\n",
    "        </ul>\n",
    "</ol>"
   ]
  },
  {
   "cell_type": "code",
   "execution_count": 1,
   "metadata": {},
   "outputs": [],
   "source": [
    "# Use this cell to set up import statements for all of the packages that you plan to use.\n",
    "\n",
    "import pandas as pd\n",
    "import numpy as np\n",
    "import matplotlib.pyplot as plt\n",
    "\n",
    "%matplotlib inline"
   ]
  },
  {
   "cell_type": "markdown",
   "metadata": {},
   "source": [
    "<a id='wrangling'></a>\n",
    "## Data Wrangling\n",
    "\n",
    "### First we load the data from the associated two files and merge them "
   ]
  },
  {
   "cell_type": "code",
   "execution_count": 2,
   "metadata": {},
   "outputs": [],
   "source": [
    "# Load your data and print out a few lines. Perform operations to inspect data\n",
    "#   types and look for instances of missing or possibly errant data.\n",
    "\n",
    "df_credits = pd.read_csv('tmdb_5000_credits.csv')\n",
    "df_movies = pd.read_csv('tmdb_5000_movies.csv')\n",
    "df = df_credits.merge(df_movies, left_on='movie_id', right_on='id')"
   ]
  },
  {
   "cell_type": "markdown",
   "metadata": {},
   "source": [
    "## Print first 5 rows"
   ]
  },
  {
   "cell_type": "code",
   "execution_count": 3,
   "metadata": {},
   "outputs": [
    {
     "name": "stdout",
     "output_type": "stream",
     "text": [
      "   movie_id                                   title_x  \\\n",
      "0     19995                                    Avatar   \n",
      "1       285  Pirates of the Caribbean: At World's End   \n",
      "2    206647                                   Spectre   \n",
      "3     49026                     The Dark Knight Rises   \n",
      "4     49529                               John Carter   \n",
      "\n",
      "                                                cast  \\\n",
      "0  [{\"cast_id\": 242, \"character\": \"Jake Sully\", \"...   \n",
      "1  [{\"cast_id\": 4, \"character\": \"Captain Jack Spa...   \n",
      "2  [{\"cast_id\": 1, \"character\": \"James Bond\", \"cr...   \n",
      "3  [{\"cast_id\": 2, \"character\": \"Bruce Wayne / Ba...   \n",
      "4  [{\"cast_id\": 5, \"character\": \"John Carter\", \"c...   \n",
      "\n",
      "                                                crew     budget  \\\n",
      "0  [{\"credit_id\": \"52fe48009251416c750aca23\", \"de...  237000000   \n",
      "1  [{\"credit_id\": \"52fe4232c3a36847f800b579\", \"de...  300000000   \n",
      "2  [{\"credit_id\": \"54805967c3a36829b5002c41\", \"de...  245000000   \n",
      "3  [{\"credit_id\": \"52fe4781c3a36847f81398c3\", \"de...  250000000   \n",
      "4  [{\"credit_id\": \"52fe479ac3a36847f813eaa3\", \"de...  260000000   \n",
      "\n",
      "                                              genres  \\\n",
      "0  [{\"id\": 28, \"name\": \"Action\"}, {\"id\": 12, \"nam...   \n",
      "1  [{\"id\": 12, \"name\": \"Adventure\"}, {\"id\": 14, \"...   \n",
      "2  [{\"id\": 28, \"name\": \"Action\"}, {\"id\": 12, \"nam...   \n",
      "3  [{\"id\": 28, \"name\": \"Action\"}, {\"id\": 80, \"nam...   \n",
      "4  [{\"id\": 28, \"name\": \"Action\"}, {\"id\": 12, \"nam...   \n",
      "\n",
      "                                       homepage      id  \\\n",
      "0                   http://www.avatarmovie.com/   19995   \n",
      "1  http://disney.go.com/disneypictures/pirates/     285   \n",
      "2   http://www.sonypictures.com/movies/spectre/  206647   \n",
      "3            http://www.thedarkknightrises.com/   49026   \n",
      "4          http://movies.disney.com/john-carter   49529   \n",
      "\n",
      "                                            keywords original_language  ...  \\\n",
      "0  [{\"id\": 1463, \"name\": \"culture clash\"}, {\"id\":...                en  ...   \n",
      "1  [{\"id\": 270, \"name\": \"ocean\"}, {\"id\": 726, \"na...                en  ...   \n",
      "2  [{\"id\": 470, \"name\": \"spy\"}, {\"id\": 818, \"name...                en  ...   \n",
      "3  [{\"id\": 849, \"name\": \"dc comics\"}, {\"id\": 853,...                en  ...   \n",
      "4  [{\"id\": 818, \"name\": \"based on novel\"}, {\"id\":...                en  ...   \n",
      "\n",
      "                                production_countries release_date     revenue  \\\n",
      "0  [{\"iso_3166_1\": \"US\", \"name\": \"United States o...   2009-12-10  2787965087   \n",
      "1  [{\"iso_3166_1\": \"US\", \"name\": \"United States o...   2007-05-19   961000000   \n",
      "2  [{\"iso_3166_1\": \"GB\", \"name\": \"United Kingdom\"...   2015-10-26   880674609   \n",
      "3  [{\"iso_3166_1\": \"US\", \"name\": \"United States o...   2012-07-16  1084939099   \n",
      "4  [{\"iso_3166_1\": \"US\", \"name\": \"United States o...   2012-03-07   284139100   \n",
      "\n",
      "  runtime                                   spoken_languages    status  \\\n",
      "0   162.0  [{\"iso_639_1\": \"en\", \"name\": \"English\"}, {\"iso...  Released   \n",
      "1   169.0           [{\"iso_639_1\": \"en\", \"name\": \"English\"}]  Released   \n",
      "2   148.0  [{\"iso_639_1\": \"fr\", \"name\": \"Fran\\u00e7ais\"},...  Released   \n",
      "3   165.0           [{\"iso_639_1\": \"en\", \"name\": \"English\"}]  Released   \n",
      "4   132.0           [{\"iso_639_1\": \"en\", \"name\": \"English\"}]  Released   \n",
      "\n",
      "                                          tagline  \\\n",
      "0                     Enter the World of Pandora.   \n",
      "1  At the end of the world, the adventure begins.   \n",
      "2                           A Plan No One Escapes   \n",
      "3                                 The Legend Ends   \n",
      "4            Lost in our world, found in another.   \n",
      "\n",
      "                                    title_y vote_average vote_count  \n",
      "0                                    Avatar          7.2      11800  \n",
      "1  Pirates of the Caribbean: At World's End          6.9       4500  \n",
      "2                                   Spectre          6.3       4466  \n",
      "3                     The Dark Knight Rises          7.6       9106  \n",
      "4                               John Carter          6.1       2124  \n",
      "\n",
      "[5 rows x 24 columns]\n"
     ]
    }
   ],
   "source": [
    "print(df.head())"
   ]
  },
  {
   "cell_type": "markdown",
   "metadata": {},
   "source": [
    "### Print dataframe general info"
   ]
  },
  {
   "cell_type": "code",
   "execution_count": 4,
   "metadata": {},
   "outputs": [
    {
     "name": "stdout",
     "output_type": "stream",
     "text": [
      "<class 'pandas.core.frame.DataFrame'>\n",
      "Int64Index: 4803 entries, 0 to 4802\n",
      "Data columns (total 24 columns):\n",
      " #   Column                Non-Null Count  Dtype  \n",
      "---  ------                --------------  -----  \n",
      " 0   movie_id              4803 non-null   int64  \n",
      " 1   title_x               4803 non-null   object \n",
      " 2   cast                  4803 non-null   object \n",
      " 3   crew                  4803 non-null   object \n",
      " 4   budget                4803 non-null   int64  \n",
      " 5   genres                4803 non-null   object \n",
      " 6   homepage              1712 non-null   object \n",
      " 7   id                    4803 non-null   int64  \n",
      " 8   keywords              4803 non-null   object \n",
      " 9   original_language     4803 non-null   object \n",
      " 10  original_title        4803 non-null   object \n",
      " 11  overview              4800 non-null   object \n",
      " 12  popularity            4803 non-null   float64\n",
      " 13  production_companies  4803 non-null   object \n",
      " 14  production_countries  4803 non-null   object \n",
      " 15  release_date          4802 non-null   object \n",
      " 16  revenue               4803 non-null   int64  \n",
      " 17  runtime               4801 non-null   float64\n",
      " 18  spoken_languages      4803 non-null   object \n",
      " 19  status                4803 non-null   object \n",
      " 20  tagline               3959 non-null   object \n",
      " 21  title_y               4803 non-null   object \n",
      " 22  vote_average          4803 non-null   float64\n",
      " 23  vote_count            4803 non-null   int64  \n",
      "dtypes: float64(3), int64(5), object(16)\n",
      "memory usage: 938.1+ KB\n",
      "None\n"
     ]
    }
   ],
   "source": [
    "print(df.info())"
   ]
  },
  {
   "cell_type": "markdown",
   "metadata": {},
   "source": [
    "### Print Column Count"
   ]
  },
  {
   "cell_type": "code",
   "execution_count": 5,
   "metadata": {},
   "outputs": [
    {
     "name": "stdout",
     "output_type": "stream",
     "text": [
      "movie_id                4803\n",
      "title_x                 4803\n",
      "cast                    4803\n",
      "crew                    4803\n",
      "budget                  4803\n",
      "genres                  4803\n",
      "homepage                1712\n",
      "id                      4803\n",
      "keywords                4803\n",
      "original_language       4803\n",
      "original_title          4803\n",
      "overview                4800\n",
      "popularity              4803\n",
      "production_companies    4803\n",
      "production_countries    4803\n",
      "release_date            4802\n",
      "revenue                 4803\n",
      "runtime                 4801\n",
      "spoken_languages        4803\n",
      "status                  4803\n",
      "tagline                 3959\n",
      "title_y                 4803\n",
      "vote_average            4803\n",
      "vote_count              4803\n",
      "dtype: int64\n"
     ]
    }
   ],
   "source": [
    "print(df.count())"
   ]
  },
  {
   "cell_type": "markdown",
   "metadata": {},
   "source": [
    "### Print column data type"
   ]
  },
  {
   "cell_type": "code",
   "execution_count": 6,
   "metadata": {},
   "outputs": [
    {
     "data": {
      "text/plain": [
       "movie_id                  int64\n",
       "title_x                  object\n",
       "cast                     object\n",
       "crew                     object\n",
       "budget                    int64\n",
       "genres                   object\n",
       "homepage                 object\n",
       "id                        int64\n",
       "keywords                 object\n",
       "original_language        object\n",
       "original_title           object\n",
       "overview                 object\n",
       "popularity              float64\n",
       "production_companies     object\n",
       "production_countries     object\n",
       "release_date             object\n",
       "revenue                   int64\n",
       "runtime                 float64\n",
       "spoken_languages         object\n",
       "status                   object\n",
       "tagline                  object\n",
       "title_y                  object\n",
       "vote_average            float64\n",
       "vote_count                int64\n",
       "dtype: object"
      ]
     },
     "execution_count": 6,
     "metadata": {},
     "output_type": "execute_result"
    }
   ],
   "source": [
    "df.dtypes"
   ]
  },
  {
   "cell_type": "markdown",
   "metadata": {},
   "source": [
    "### General Properties"
   ]
  },
  {
   "cell_type": "code",
   "execution_count": 7,
   "metadata": {
    "scrolled": true
   },
   "outputs": [
    {
     "data": {
      "text/html": [
       "<div>\n",
       "<style scoped>\n",
       "    .dataframe tbody tr th:only-of-type {\n",
       "        vertical-align: middle;\n",
       "    }\n",
       "\n",
       "    .dataframe tbody tr th {\n",
       "        vertical-align: top;\n",
       "    }\n",
       "\n",
       "    .dataframe thead th {\n",
       "        text-align: right;\n",
       "    }\n",
       "</style>\n",
       "<table border=\"1\" class=\"dataframe\">\n",
       "  <thead>\n",
       "    <tr style=\"text-align: right;\">\n",
       "      <th></th>\n",
       "      <th>movie_id</th>\n",
       "      <th>budget</th>\n",
       "      <th>id</th>\n",
       "      <th>popularity</th>\n",
       "      <th>revenue</th>\n",
       "      <th>runtime</th>\n",
       "      <th>vote_average</th>\n",
       "      <th>vote_count</th>\n",
       "    </tr>\n",
       "  </thead>\n",
       "  <tbody>\n",
       "    <tr>\n",
       "      <th>count</th>\n",
       "      <td>4803.000000</td>\n",
       "      <td>4.803000e+03</td>\n",
       "      <td>4803.000000</td>\n",
       "      <td>4803.000000</td>\n",
       "      <td>4.803000e+03</td>\n",
       "      <td>4801.000000</td>\n",
       "      <td>4803.000000</td>\n",
       "      <td>4803.000000</td>\n",
       "    </tr>\n",
       "    <tr>\n",
       "      <th>mean</th>\n",
       "      <td>57165.484281</td>\n",
       "      <td>2.904504e+07</td>\n",
       "      <td>57165.484281</td>\n",
       "      <td>21.492301</td>\n",
       "      <td>8.226064e+07</td>\n",
       "      <td>106.875859</td>\n",
       "      <td>6.092172</td>\n",
       "      <td>690.217989</td>\n",
       "    </tr>\n",
       "    <tr>\n",
       "      <th>std</th>\n",
       "      <td>88694.614033</td>\n",
       "      <td>4.072239e+07</td>\n",
       "      <td>88694.614033</td>\n",
       "      <td>31.816650</td>\n",
       "      <td>1.628571e+08</td>\n",
       "      <td>22.611935</td>\n",
       "      <td>1.194612</td>\n",
       "      <td>1234.585891</td>\n",
       "    </tr>\n",
       "    <tr>\n",
       "      <th>min</th>\n",
       "      <td>5.000000</td>\n",
       "      <td>0.000000e+00</td>\n",
       "      <td>5.000000</td>\n",
       "      <td>0.000000</td>\n",
       "      <td>0.000000e+00</td>\n",
       "      <td>0.000000</td>\n",
       "      <td>0.000000</td>\n",
       "      <td>0.000000</td>\n",
       "    </tr>\n",
       "    <tr>\n",
       "      <th>25%</th>\n",
       "      <td>9014.500000</td>\n",
       "      <td>7.900000e+05</td>\n",
       "      <td>9014.500000</td>\n",
       "      <td>4.668070</td>\n",
       "      <td>0.000000e+00</td>\n",
       "      <td>94.000000</td>\n",
       "      <td>5.600000</td>\n",
       "      <td>54.000000</td>\n",
       "    </tr>\n",
       "    <tr>\n",
       "      <th>50%</th>\n",
       "      <td>14629.000000</td>\n",
       "      <td>1.500000e+07</td>\n",
       "      <td>14629.000000</td>\n",
       "      <td>12.921594</td>\n",
       "      <td>1.917000e+07</td>\n",
       "      <td>103.000000</td>\n",
       "      <td>6.200000</td>\n",
       "      <td>235.000000</td>\n",
       "    </tr>\n",
       "    <tr>\n",
       "      <th>75%</th>\n",
       "      <td>58610.500000</td>\n",
       "      <td>4.000000e+07</td>\n",
       "      <td>58610.500000</td>\n",
       "      <td>28.313505</td>\n",
       "      <td>9.291719e+07</td>\n",
       "      <td>118.000000</td>\n",
       "      <td>6.800000</td>\n",
       "      <td>737.000000</td>\n",
       "    </tr>\n",
       "    <tr>\n",
       "      <th>max</th>\n",
       "      <td>459488.000000</td>\n",
       "      <td>3.800000e+08</td>\n",
       "      <td>459488.000000</td>\n",
       "      <td>875.581305</td>\n",
       "      <td>2.787965e+09</td>\n",
       "      <td>338.000000</td>\n",
       "      <td>10.000000</td>\n",
       "      <td>13752.000000</td>\n",
       "    </tr>\n",
       "  </tbody>\n",
       "</table>\n",
       "</div>"
      ],
      "text/plain": [
       "            movie_id        budget             id   popularity       revenue  \\\n",
       "count    4803.000000  4.803000e+03    4803.000000  4803.000000  4.803000e+03   \n",
       "mean    57165.484281  2.904504e+07   57165.484281    21.492301  8.226064e+07   \n",
       "std     88694.614033  4.072239e+07   88694.614033    31.816650  1.628571e+08   \n",
       "min         5.000000  0.000000e+00       5.000000     0.000000  0.000000e+00   \n",
       "25%      9014.500000  7.900000e+05    9014.500000     4.668070  0.000000e+00   \n",
       "50%     14629.000000  1.500000e+07   14629.000000    12.921594  1.917000e+07   \n",
       "75%     58610.500000  4.000000e+07   58610.500000    28.313505  9.291719e+07   \n",
       "max    459488.000000  3.800000e+08  459488.000000   875.581305  2.787965e+09   \n",
       "\n",
       "           runtime  vote_average    vote_count  \n",
       "count  4801.000000   4803.000000   4803.000000  \n",
       "mean    106.875859      6.092172    690.217989  \n",
       "std      22.611935      1.194612   1234.585891  \n",
       "min       0.000000      0.000000      0.000000  \n",
       "25%      94.000000      5.600000     54.000000  \n",
       "50%     103.000000      6.200000    235.000000  \n",
       "75%     118.000000      6.800000    737.000000  \n",
       "max     338.000000     10.000000  13752.000000  "
      ]
     },
     "execution_count": 7,
     "metadata": {},
     "output_type": "execute_result"
    }
   ],
   "source": [
    "df.describe()"
   ]
  },
  {
   "cell_type": "markdown",
   "metadata": {},
   "source": [
    "### Data Cleaning"
   ]
  },
  {
   "cell_type": "markdown",
   "metadata": {},
   "source": [
    "1- We see that we have duplicate columns \"id and movie_id\", \"title_x, title_y\", so we need to drop one of each duplicate columns\n",
    "\n",
    "2- There are some columns that have missing values, luckily we are not intresting in any of these columns except for the runtime and release date column.\n",
    "The runtime column have 1 missing value, we will replace it with the mean runtime value \n",
    "The release date column have 1 missing value. we will drop it.\n",
    "\n",
    "3- The crew column is very complicated, we only need to know how many members are there. same for cast.\n",
    "\n",
    "4- release_date column which is a string should be converted into datetime so we can perform our analysis.\n",
    "\n",
    "5- There is no need to store all these columns, we shall focus on the important columns needed for our analysis."
   ]
  },
  {
   "cell_type": "markdown",
   "metadata": {},
   "source": [
    "### 1- Drop Repeated Columns\n",
    "\n",
    "#### title_x and title_y are repeated columns, we need to drop one column and rename the other coumn to title, aslo id and movie_id are repeated, so we need to keep only id column"
   ]
  },
  {
   "cell_type": "code",
   "execution_count": 8,
   "metadata": {},
   "outputs": [
    {
     "data": {
      "text/plain": [
       "id                      4803\n",
       "title                   4803\n",
       "cast                    4803\n",
       "crew                    4803\n",
       "budget                  4803\n",
       "genres                  4803\n",
       "homepage                1712\n",
       "keywords                4803\n",
       "original_language       4803\n",
       "original_title          4803\n",
       "overview                4800\n",
       "popularity              4803\n",
       "production_companies    4803\n",
       "production_countries    4803\n",
       "release_date            4802\n",
       "revenue                 4803\n",
       "runtime                 4801\n",
       "spoken_languages        4803\n",
       "status                  4803\n",
       "tagline                 3959\n",
       "vote_average            4803\n",
       "vote_count              4803\n",
       "dtype: int64"
      ]
     },
     "execution_count": 8,
     "metadata": {},
     "output_type": "execute_result"
    }
   ],
   "source": [
    "df.drop(columns=['title_y', 'id'], inplace=True)\n",
    "df.rename(columns={\"title_x\":'title', 'movie_id':'id'}, inplace=True)\n",
    "df.count()"
   ]
  },
  {
   "cell_type": "markdown",
   "metadata": {},
   "source": [
    "## 2- Fill Missing Values\n",
    "\n",
    "### Filling the missing value in runtime column with the mean runtime column and drop the misisng row in release_date column "
   ]
  },
  {
   "cell_type": "code",
   "execution_count": 9,
   "metadata": {},
   "outputs": [],
   "source": [
    "df['runtime'].fillna((df['runtime'].mean()), inplace=True)\n",
    "df.dropna(subset=['release_date'], inplace=True)"
   ]
  },
  {
   "cell_type": "markdown",
   "metadata": {},
   "source": [
    "## 3- Extracting how many crew memeber are there from the crew column"
   ]
  },
  {
   "cell_type": "code",
   "execution_count": 10,
   "metadata": {},
   "outputs": [],
   "source": [
    "df['crew_number'] = df.apply(lambda row: len(row.crew), axis=1)\n",
    "df['cast_number'] = df.apply(lambda row: len(row.cast), axis=1)"
   ]
  },
  {
   "cell_type": "markdown",
   "metadata": {},
   "source": [
    "### We need to convert release_date into datetime to perform our analysis"
   ]
  },
  {
   "cell_type": "code",
   "execution_count": 11,
   "metadata": {},
   "outputs": [],
   "source": [
    "# https://kanoki.org/2020/05/26/dataframe-groupby-date-and-time/\n",
    "df['release_date'] = pd.to_datetime(df['release_date'], format='%Y-%m-%d')"
   ]
  },
  {
   "cell_type": "markdown",
   "metadata": {},
   "source": [
    "## 4- Selecting only the interesting columns for our research"
   ]
  },
  {
   "cell_type": "code",
   "execution_count": 12,
   "metadata": {},
   "outputs": [
    {
     "data": {
      "text/plain": [
       "Index(['title', 'budget', 'release_date', 'revenue', 'runtime', 'vote_average',\n",
       "       'original_language', 'crew_number', 'cast_number'],\n",
       "      dtype='object')"
      ]
     },
     "execution_count": 12,
     "metadata": {},
     "output_type": "execute_result"
    }
   ],
   "source": [
    "df = df[['title', 'budget', 'release_date', 'revenue', 'runtime', 'vote_average', 'original_language', 'crew_number', 'cast_number']]\n",
    "df.columns"
   ]
  },
  {
   "cell_type": "markdown",
   "metadata": {},
   "source": [
    "<a id='eda'></a>\n",
    "## Exploratory Data Analysis"
   ]
  },
  {
   "cell_type": "markdown",
   "metadata": {},
   "source": [
    "## Research Question 1 \"What factors affect movie revenue?\"\n",
    "\n",
    "### \"Does recruiting more crew members have any effect on the outcoming revenue?\""
   ]
  },
  {
   "cell_type": "code",
   "execution_count": 13,
   "metadata": {},
   "outputs": [
    {
     "data": {
      "image/png": "[encoded data removed]",
      "text/plain": [
       "<Figure size 432x288 with 1 Axes>"
      ]
     },
     "metadata": {
      "needs_background": "light"
     },
     "output_type": "display_data"
    }
   ],
   "source": [
    "df.plot(x='crew_number',y='revenue', kind='scatter', title=\"Revenue vs Crew Number\");"
   ]
  },
  {
   "cell_type": "markdown",
   "metadata": {},
   "source": [
    "### Maybe the outliers make it more difficult to decide, we can calcualte the R number or maybe reduce our dataset to only include movies whose crew_number < 30000 and revenue < 1e9"
   ]
  },
  {
   "cell_type": "code",
   "execution_count": 14,
   "metadata": {},
   "outputs": [
    {
     "data": {
      "text/plain": [
       "<matplotlib.axes._subplots.AxesSubplot at 0x7f1790cbff10>"
      ]
     },
     "execution_count": 14,
     "metadata": {},
     "output_type": "execute_result"
    },
    {
     "data": {
      "image/png": "[encoded data removed]",
      "text/plain": [
       "<Figure size 432x288 with 1 Axes>"
      ]
     },
     "metadata": {
      "needs_background": "light"
     },
     "output_type": "display_data"
    }
   ],
   "source": [
    "df1 = df.query('crew_number < 30000 and revenue < 1E9')\n",
    "df1.plot(x='crew_number',y='revenue', kind='scatter', title=\"Revenue vs Crew Number without outliers\")"
   ]
  },
  {
   "cell_type": "markdown",
   "metadata": {},
   "source": [
    "## The scatter plot make a shape like box shape, There is no correlation between crew_number and revenue\n",
    "\n",
    "## Ans1: Recruiting more crew members has no effect on the outcoming revenue"
   ]
  },
  {
   "cell_type": "markdown",
   "metadata": {},
   "source": [
    "### \"Does having more budget result in more revenue?\""
   ]
  },
  {
   "cell_type": "code",
   "execution_count": 15,
   "metadata": {},
   "outputs": [
    {
     "data": {
      "text/plain": [
       "<matplotlib.axes._subplots.AxesSubplot at 0x7f17904e0790>"
      ]
     },
     "execution_count": 15,
     "metadata": {},
     "output_type": "execute_result"
    },
    {
     "data": {
      "image/png": "[encoded data removed]",
      "text/plain": [
       "<Figure size 432x288 with 1 Axes>"
      ]
     },
     "metadata": {
      "needs_background": "light"
     },
     "output_type": "display_data"
    }
   ],
   "source": [
    "df.plot(kind='scatter', x='budget', y='revenue', title='Revenue vs Revenue', label='revenue')"
   ]
  },
  {
   "cell_type": "markdown",
   "metadata": {},
   "source": [
    "### Again maybe we need to eliminate outliers"
   ]
  },
  {
   "cell_type": "code",
   "execution_count": 16,
   "metadata": {},
   "outputs": [
    {
     "data": {
      "text/plain": [
       "<matplotlib.axes._subplots.AxesSubplot at 0x7f17903fa4d0>"
      ]
     },
     "execution_count": 16,
     "metadata": {},
     "output_type": "execute_result"
    },
    {
     "data": {
      "image/png": "[encoded data removed]",
      "text/plain": [
       "<Figure size 432x288 with 1 Axes>"
      ]
     },
     "metadata": {
      "needs_background": "light"
     },
     "output_type": "display_data"
    }
   ],
   "source": [
    "df2 = df.query('budget < 2.5E8 and revenue < 1.3E9')\n",
    "df2.plot(kind='scatter', x='budget', y='revenue', label='revenue')"
   ]
  },
  {
   "cell_type": "markdown",
   "metadata": {},
   "source": [
    "### Ans2: It seems that there is a correlation between budget and revenue"
   ]
  },
  {
   "cell_type": "markdown",
   "metadata": {},
   "source": [
    "## Let's compute the correlation coefficient to check our results"
   ]
  },
  {
   "cell_type": "code",
   "execution_count": 17,
   "metadata": {},
   "outputs": [
    {
     "data": {
      "text/html": [
       "<div>\n",
       "<style scoped>\n",
       "    .dataframe tbody tr th:only-of-type {\n",
       "        vertical-align: middle;\n",
       "    }\n",
       "\n",
       "    .dataframe tbody tr th {\n",
       "        vertical-align: top;\n",
       "    }\n",
       "\n",
       "    .dataframe thead th {\n",
       "        text-align: right;\n",
       "    }\n",
       "</style>\n",
       "<table border=\"1\" class=\"dataframe\">\n",
       "  <thead>\n",
       "    <tr style=\"text-align: right;\">\n",
       "      <th></th>\n",
       "      <th>budget</th>\n",
       "      <th>revenue</th>\n",
       "      <th>runtime</th>\n",
       "      <th>vote_average</th>\n",
       "      <th>crew_number</th>\n",
       "      <th>cast_number</th>\n",
       "    </tr>\n",
       "  </thead>\n",
       "  <tbody>\n",
       "    <tr>\n",
       "      <th>budget</th>\n",
       "      <td>1.000000</td>\n",
       "      <td>0.717382</td>\n",
       "      <td>0.245893</td>\n",
       "      <td>0.083672</td>\n",
       "      <td>0.443660</td>\n",
       "      <td>0.314959</td>\n",
       "    </tr>\n",
       "    <tr>\n",
       "      <th>revenue</th>\n",
       "      <td>0.717382</td>\n",
       "      <td>1.000000</td>\n",
       "      <td>0.226430</td>\n",
       "      <td>0.198761</td>\n",
       "      <td>0.389038</td>\n",
       "      <td>0.357206</td>\n",
       "    </tr>\n",
       "    <tr>\n",
       "      <th>runtime</th>\n",
       "      <td>0.245893</td>\n",
       "      <td>0.226430</td>\n",
       "      <td>1.000000</td>\n",
       "      <td>0.369237</td>\n",
       "      <td>0.209541</td>\n",
       "      <td>0.297243</td>\n",
       "    </tr>\n",
       "    <tr>\n",
       "      <th>vote_average</th>\n",
       "      <td>0.083672</td>\n",
       "      <td>0.198761</td>\n",
       "      <td>0.369237</td>\n",
       "      <td>1.000000</td>\n",
       "      <td>0.166625</td>\n",
       "      <td>0.228815</td>\n",
       "    </tr>\n",
       "    <tr>\n",
       "      <th>crew_number</th>\n",
       "      <td>0.443660</td>\n",
       "      <td>0.389038</td>\n",
       "      <td>0.209541</td>\n",
       "      <td>0.166625</td>\n",
       "      <td>1.000000</td>\n",
       "      <td>0.340861</td>\n",
       "    </tr>\n",
       "    <tr>\n",
       "      <th>cast_number</th>\n",
       "      <td>0.314959</td>\n",
       "      <td>0.357206</td>\n",
       "      <td>0.297243</td>\n",
       "      <td>0.228815</td>\n",
       "      <td>0.340861</td>\n",
       "      <td>1.000000</td>\n",
       "    </tr>\n",
       "  </tbody>\n",
       "</table>\n",
       "</div>"
      ],
      "text/plain": [
       "                budget   revenue   runtime  vote_average  crew_number  \\\n",
       "budget        1.000000  0.717382  0.245893      0.083672     0.443660   \n",
       "revenue       0.717382  1.000000  0.226430      0.198761     0.389038   \n",
       "runtime       0.245893  0.226430  1.000000      0.369237     0.209541   \n",
       "vote_average  0.083672  0.198761  0.369237      1.000000     0.166625   \n",
       "crew_number   0.443660  0.389038  0.209541      0.166625     1.000000   \n",
       "cast_number   0.314959  0.357206  0.297243      0.228815     0.340861   \n",
       "\n",
       "              cast_number  \n",
       "budget           0.314959  \n",
       "revenue          0.357206  \n",
       "runtime          0.297243  \n",
       "vote_average     0.228815  \n",
       "crew_number      0.340861  \n",
       "cast_number      1.000000  "
      ]
     },
     "execution_count": 17,
     "metadata": {},
     "output_type": "execute_result"
    }
   ],
   "source": [
    "df2.corr()\n",
    "### maybe histogram plot will give us clearer visual representation\n",
    "# df.groupby('budget').revenue.hist(bins=20)"
   ]
  },
  {
   "cell_type": "markdown",
   "metadata": {},
   "source": [
    "## As we have concluded,\n",
    "## There is a weak correlation between revenue and crew_number while there is a moderate correlation between budget and revenue"
   ]
  },
  {
   "cell_type": "markdown",
   "metadata": {},
   "source": [
    "### Now we will see which 5 years produced movies that achieved more revenue "
   ]
  },
  {
   "cell_type": "code",
   "execution_count": 18,
   "metadata": {},
   "outputs": [
    {
     "data": {
      "text/plain": [
       "[Text(0, 0.5, 'revenue'), Text(0.5, 0, 'year')]"
      ]
     },
     "execution_count": 18,
     "metadata": {},
     "output_type": "execute_result"
    },
    {
     "data": {
      "image/png": "[encoded data removed]",
      "text/plain": [
       "<Figure size 432x288 with 1 Axes>"
      ]
     },
     "metadata": {
      "needs_background": "light"
     },
     "output_type": "display_data"
    }
   ],
   "source": [
    "df_groupedby_date = df.groupby(pd.Grouper(key='release_date',freq='5Y')).sum().reset_index()\n",
    "df_groupedby_date['year'] = pd.DatetimeIndex(df_groupedby_date['release_date']).year\n",
    "ax = df_groupedby_date.plot(kind='bar', x='year', y='revenue', title=\"Revenue vs Yeasr grouped by each 5 years\")\n",
    "ax.set(xlabel=\"year\", ylabel=\"revenue\")"
   ]
  },
  {
   "cell_type": "markdown",
   "metadata": {},
   "source": [
    "### Ans3: The revenue is monotonically increasing, The largest 5 year revenue is from 2016-2021"
   ]
  },
  {
   "cell_type": "markdown",
   "metadata": {},
   "source": [
    "## It seems that the more recent is the movie and the more budget is available, the more revenue it gains "
   ]
  },
  {
   "cell_type": "markdown",
   "metadata": {},
   "source": [
    "# Now let's consider what factors affect the movie rating"
   ]
  },
  {
   "cell_type": "markdown",
   "metadata": {},
   "source": [
    "## Research Question 2 \"What are the effect of these factors on movie rating?\""
   ]
  },
  {
   "cell_type": "markdown",
   "metadata": {},
   "source": [
    "### Does having more cast members affect the rating?"
   ]
  },
  {
   "cell_type": "code",
   "execution_count": 19,
   "metadata": {},
   "outputs": [
    {
     "data": {
      "text/html": [
       "<div>\n",
       "<style scoped>\n",
       "    .dataframe tbody tr th:only-of-type {\n",
       "        vertical-align: middle;\n",
       "    }\n",
       "\n",
       "    .dataframe tbody tr th {\n",
       "        vertical-align: top;\n",
       "    }\n",
       "\n",
       "    .dataframe thead th {\n",
       "        text-align: right;\n",
       "    }\n",
       "</style>\n",
       "<table border=\"1\" class=\"dataframe\">\n",
       "  <thead>\n",
       "    <tr style=\"text-align: right;\">\n",
       "      <th></th>\n",
       "      <th>budget</th>\n",
       "      <th>revenue</th>\n",
       "      <th>runtime</th>\n",
       "      <th>vote_average</th>\n",
       "      <th>crew_number</th>\n",
       "      <th>cast_number</th>\n",
       "    </tr>\n",
       "  </thead>\n",
       "  <tbody>\n",
       "    <tr>\n",
       "      <th>budget</th>\n",
       "      <td>1.000000</td>\n",
       "      <td>0.730806</td>\n",
       "      <td>0.269774</td>\n",
       "      <td>0.092644</td>\n",
       "      <td>0.451584</td>\n",
       "      <td>0.340859</td>\n",
       "    </tr>\n",
       "    <tr>\n",
       "      <th>revenue</th>\n",
       "      <td>0.730806</td>\n",
       "      <td>1.000000</td>\n",
       "      <td>0.251174</td>\n",
       "      <td>0.197153</td>\n",
       "      <td>0.414431</td>\n",
       "      <td>0.383391</td>\n",
       "    </tr>\n",
       "    <tr>\n",
       "      <th>runtime</th>\n",
       "      <td>0.269774</td>\n",
       "      <td>0.251174</td>\n",
       "      <td>1.000000</td>\n",
       "      <td>0.370834</td>\n",
       "      <td>0.218641</td>\n",
       "      <td>0.309213</td>\n",
       "    </tr>\n",
       "    <tr>\n",
       "      <th>vote_average</th>\n",
       "      <td>0.092644</td>\n",
       "      <td>0.197153</td>\n",
       "      <td>0.370834</td>\n",
       "      <td>1.000000</td>\n",
       "      <td>0.169113</td>\n",
       "      <td>0.229704</td>\n",
       "    </tr>\n",
       "    <tr>\n",
       "      <th>crew_number</th>\n",
       "      <td>0.451584</td>\n",
       "      <td>0.414431</td>\n",
       "      <td>0.218641</td>\n",
       "      <td>0.169113</td>\n",
       "      <td>1.000000</td>\n",
       "      <td>0.350708</td>\n",
       "    </tr>\n",
       "    <tr>\n",
       "      <th>cast_number</th>\n",
       "      <td>0.340859</td>\n",
       "      <td>0.383391</td>\n",
       "      <td>0.309213</td>\n",
       "      <td>0.229704</td>\n",
       "      <td>0.350708</td>\n",
       "      <td>1.000000</td>\n",
       "    </tr>\n",
       "  </tbody>\n",
       "</table>\n",
       "</div>"
      ],
      "text/plain": [
       "                budget   revenue   runtime  vote_average  crew_number  \\\n",
       "budget        1.000000  0.730806  0.269774      0.092644     0.451584   \n",
       "revenue       0.730806  1.000000  0.251174      0.197153     0.414431   \n",
       "runtime       0.269774  0.251174  1.000000      0.370834     0.218641   \n",
       "vote_average  0.092644  0.197153  0.370834      1.000000     0.169113   \n",
       "crew_number   0.451584  0.414431  0.218641      0.169113     1.000000   \n",
       "cast_number   0.340859  0.383391  0.309213      0.229704     0.350708   \n",
       "\n",
       "              cast_number  \n",
       "budget           0.340859  \n",
       "revenue          0.383391  \n",
       "runtime          0.309213  \n",
       "vote_average     0.229704  \n",
       "crew_number      0.350708  \n",
       "cast_number      1.000000  "
      ]
     },
     "execution_count": 19,
     "metadata": {},
     "output_type": "execute_result"
    },
    {
     "data": {
      "image/png": "[encoded data removed]",
      "text/plain": [
       "<Figure size 432x288 with 1 Axes>"
      ]
     },
     "metadata": {
      "needs_background": "light"
     },
     "output_type": "display_data"
    }
   ],
   "source": [
    "df.plot(kind='scatter', x='cast_number', y='vote_average', label=\"average vote\", title='Average Vote vs Cast Number')\n",
    "df.corr()"
   ]
  },
  {
   "cell_type": "markdown",
   "metadata": {},
   "source": [
    "### Ans1: The cast number has weak correlation with the movie rate"
   ]
  },
  {
   "cell_type": "markdown",
   "metadata": {},
   "source": [
    "### Does the movie runtime affect the rating?"
   ]
  },
  {
   "cell_type": "code",
   "execution_count": 20,
   "metadata": {},
   "outputs": [
    {
     "data": {
      "text/html": [
       "<div>\n",
       "<style scoped>\n",
       "    .dataframe tbody tr th:only-of-type {\n",
       "        vertical-align: middle;\n",
       "    }\n",
       "\n",
       "    .dataframe tbody tr th {\n",
       "        vertical-align: top;\n",
       "    }\n",
       "\n",
       "    .dataframe thead th {\n",
       "        text-align: right;\n",
       "    }\n",
       "</style>\n",
       "<table border=\"1\" class=\"dataframe\">\n",
       "  <thead>\n",
       "    <tr style=\"text-align: right;\">\n",
       "      <th></th>\n",
       "      <th>budget</th>\n",
       "      <th>revenue</th>\n",
       "      <th>runtime</th>\n",
       "      <th>vote_average</th>\n",
       "      <th>crew_number</th>\n",
       "      <th>cast_number</th>\n",
       "    </tr>\n",
       "    <tr>\n",
       "      <th>vote_average</th>\n",
       "      <th></th>\n",
       "      <th></th>\n",
       "      <th></th>\n",
       "      <th></th>\n",
       "      <th></th>\n",
       "      <th></th>\n",
       "    </tr>\n",
       "  </thead>\n",
       "  <tbody>\n",
       "    <tr>\n",
       "      <th>(-0.01, 1.0]</th>\n",
       "      <td>1.254847e+05</td>\n",
       "      <td>2.128923e+02</td>\n",
       "      <td>76.967321</td>\n",
       "      <td>0.038462</td>\n",
       "      <td>551.046154</td>\n",
       "      <td>796.938462</td>\n",
       "    </tr>\n",
       "    <tr>\n",
       "      <th>(1.0, 2.0]</th>\n",
       "      <td>7.143043e+04</td>\n",
       "      <td>1.301332e+06</td>\n",
       "      <td>77.857143</td>\n",
       "      <td>1.985714</td>\n",
       "      <td>443.714286</td>\n",
       "      <td>941.000000</td>\n",
       "    </tr>\n",
       "    <tr>\n",
       "      <th>(2.0, 3.0]</th>\n",
       "      <td>1.168929e+07</td>\n",
       "      <td>1.595053e+06</td>\n",
       "      <td>85.964286</td>\n",
       "      <td>2.828571</td>\n",
       "      <td>787.964286</td>\n",
       "      <td>1710.357143</td>\n",
       "    </tr>\n",
       "    <tr>\n",
       "      <th>(3.0, 4.0]</th>\n",
       "      <td>1.234006e+07</td>\n",
       "      <td>6.911541e+06</td>\n",
       "      <td>94.785714</td>\n",
       "      <td>3.626190</td>\n",
       "      <td>1516.964286</td>\n",
       "      <td>2213.476190</td>\n",
       "    </tr>\n",
       "    <tr>\n",
       "      <th>(4.0, 5.0]</th>\n",
       "      <td>1.934190e+07</td>\n",
       "      <td>2.378055e+07</td>\n",
       "      <td>93.939394</td>\n",
       "      <td>4.672960</td>\n",
       "      <td>2822.923077</td>\n",
       "      <td>2280.025641</td>\n",
       "    </tr>\n",
       "    <tr>\n",
       "      <th>(5.0, 6.0]</th>\n",
       "      <td>3.231714e+07</td>\n",
       "      <td>6.593754e+07</td>\n",
       "      <td>102.034892</td>\n",
       "      <td>5.640893</td>\n",
       "      <td>3828.460572</td>\n",
       "      <td>3088.498953</td>\n",
       "    </tr>\n",
       "    <tr>\n",
       "      <th>(6.0, 7.0]</th>\n",
       "      <td>3.057491e+07</td>\n",
       "      <td>9.101586e+07</td>\n",
       "      <td>109.900873</td>\n",
       "      <td>6.533693</td>\n",
       "      <td>4031.985105</td>\n",
       "      <td>3414.236261</td>\n",
       "    </tr>\n",
       "    <tr>\n",
       "      <th>(7.0, 8.0]</th>\n",
       "      <td>3.004337e+07</td>\n",
       "      <td>1.366983e+08</td>\n",
       "      <td>119.031457</td>\n",
       "      <td>7.420026</td>\n",
       "      <td>5255.557312</td>\n",
       "      <td>4704.952569</td>\n",
       "    </tr>\n",
       "    <tr>\n",
       "      <th>(8.0, 9.0]</th>\n",
       "      <td>2.705470e+07</td>\n",
       "      <td>2.002424e+08</td>\n",
       "      <td>140.068182</td>\n",
       "      <td>8.197727</td>\n",
       "      <td>6055.750000</td>\n",
       "      <td>6250.909091</td>\n",
       "    </tr>\n",
       "    <tr>\n",
       "      <th>(9.0, 10.0]</th>\n",
       "      <td>1.666667e-01</td>\n",
       "      <td>9.426533e+04</td>\n",
       "      <td>67.833333</td>\n",
       "      <td>9.800000</td>\n",
       "      <td>702.333333</td>\n",
       "      <td>1041.500000</td>\n",
       "    </tr>\n",
       "  </tbody>\n",
       "</table>\n",
       "</div>"
      ],
      "text/plain": [
       "                    budget       revenue     runtime  vote_average  \\\n",
       "vote_average                                                         \n",
       "(-0.01, 1.0]  1.254847e+05  2.128923e+02   76.967321      0.038462   \n",
       "(1.0, 2.0]    7.143043e+04  1.301332e+06   77.857143      1.985714   \n",
       "(2.0, 3.0]    1.168929e+07  1.595053e+06   85.964286      2.828571   \n",
       "(3.0, 4.0]    1.234006e+07  6.911541e+06   94.785714      3.626190   \n",
       "(4.0, 5.0]    1.934190e+07  2.378055e+07   93.939394      4.672960   \n",
       "(5.0, 6.0]    3.231714e+07  6.593754e+07  102.034892      5.640893   \n",
       "(6.0, 7.0]    3.057491e+07  9.101586e+07  109.900873      6.533693   \n",
       "(7.0, 8.0]    3.004337e+07  1.366983e+08  119.031457      7.420026   \n",
       "(8.0, 9.0]    2.705470e+07  2.002424e+08  140.068182      8.197727   \n",
       "(9.0, 10.0]   1.666667e-01  9.426533e+04   67.833333      9.800000   \n",
       "\n",
       "              crew_number  cast_number  \n",
       "vote_average                            \n",
       "(-0.01, 1.0]   551.046154   796.938462  \n",
       "(1.0, 2.0]     443.714286   941.000000  \n",
       "(2.0, 3.0]     787.964286  1710.357143  \n",
       "(3.0, 4.0]    1516.964286  2213.476190  \n",
       "(4.0, 5.0]    2822.923077  2280.025641  \n",
       "(5.0, 6.0]    3828.460572  3088.498953  \n",
       "(6.0, 7.0]    4031.985105  3414.236261  \n",
       "(7.0, 8.0]    5255.557312  4704.952569  \n",
       "(8.0, 9.0]    6055.750000  6250.909091  \n",
       "(9.0, 10.0]    702.333333  1041.500000  "
      ]
     },
     "execution_count": 20,
     "metadata": {},
     "output_type": "execute_result"
    }
   ],
   "source": [
    "# https://stackoverflow.com/questions/21441259/pandas-groupby-range-of-values\n",
    "df_groubedby_vote = df.groupby(pd.cut(df[\"vote_average\"], bins=10)).mean()\n",
    "df_groubedby_vote"
   ]
  },
  {
   "cell_type": "code",
   "execution_count": 21,
   "metadata": {},
   "outputs": [
    {
     "data": {
      "text/plain": [
       "[Text(0, 0.5, 'runtime')]"
      ]
     },
     "execution_count": 21,
     "metadata": {},
     "output_type": "execute_result"
    },
    {
     "data": {
      "image/png": "[encoded data removed]",
      "text/plain": [
       "<Figure size 432x288 with 1 Axes>"
      ]
     },
     "metadata": {
      "needs_background": "light"
     },
     "output_type": "display_data"
    }
   ],
   "source": [
    "ax = df_groubedby_vote.plot(x='vote_average', y='runtime', kind='line', title='Runtime vs Average Vote')\n",
    "ax.set(ylabel='runtime')"
   ]
  },
  {
   "cell_type": "markdown",
   "metadata": {},
   "source": [
    "### Ans2: In general, The more the runtime is, the more the average_rate is. However, the movies with rates between 9 to 10 has the shortest runtime at all."
   ]
  },
  {
   "cell_type": "markdown",
   "metadata": {},
   "source": [
    "### Which original language has higher movie rate?"
   ]
  },
  {
   "cell_type": "code",
   "execution_count": 22,
   "metadata": {},
   "outputs": [
    {
     "data": {
      "text/html": [
       "<div>\n",
       "<style scoped>\n",
       "    .dataframe tbody tr th:only-of-type {\n",
       "        vertical-align: middle;\n",
       "    }\n",
       "\n",
       "    .dataframe tbody tr th {\n",
       "        vertical-align: top;\n",
       "    }\n",
       "\n",
       "    .dataframe thead th {\n",
       "        text-align: right;\n",
       "    }\n",
       "</style>\n",
       "<table border=\"1\" class=\"dataframe\">\n",
       "  <thead>\n",
       "    <tr style=\"text-align: right;\">\n",
       "      <th></th>\n",
       "      <th>budget</th>\n",
       "      <th>revenue</th>\n",
       "      <th>runtime</th>\n",
       "      <th>vote_average</th>\n",
       "      <th>crew_number</th>\n",
       "      <th>cast_number</th>\n",
       "    </tr>\n",
       "    <tr>\n",
       "      <th>original_language</th>\n",
       "      <th></th>\n",
       "      <th></th>\n",
       "      <th></th>\n",
       "      <th></th>\n",
       "      <th></th>\n",
       "      <th></th>\n",
       "    </tr>\n",
       "  </thead>\n",
       "  <tbody>\n",
       "    <tr>\n",
       "      <th>te</th>\n",
       "      <td>4.000000e+07</td>\n",
       "      <td>1.000000e+08</td>\n",
       "      <td>159.00</td>\n",
       "      <td>7.500</td>\n",
       "      <td>4132.000000</td>\n",
       "      <td>2369.000000</td>\n",
       "    </tr>\n",
       "    <tr>\n",
       "      <th>id</th>\n",
       "      <td>1.050000e+06</td>\n",
       "      <td>2.274881e+06</td>\n",
       "      <td>108.00</td>\n",
       "      <td>7.400</td>\n",
       "      <td>3615.000000</td>\n",
       "      <td>1742.000000</td>\n",
       "    </tr>\n",
       "    <tr>\n",
       "      <th>he</th>\n",
       "      <td>6.666667e+05</td>\n",
       "      <td>3.708616e+06</td>\n",
       "      <td>108.00</td>\n",
       "      <td>7.400</td>\n",
       "      <td>831.333333</td>\n",
       "      <td>1261.333333</td>\n",
       "    </tr>\n",
       "    <tr>\n",
       "      <th>fa</th>\n",
       "      <td>2.450000e+05</td>\n",
       "      <td>2.250000e+05</td>\n",
       "      <td>102.25</td>\n",
       "      <td>7.375</td>\n",
       "      <td>728.000000</td>\n",
       "      <td>1073.750000</td>\n",
       "    </tr>\n",
       "    <tr>\n",
       "      <th>ar</th>\n",
       "      <td>0.000000e+00</td>\n",
       "      <td>0.000000e+00</td>\n",
       "      <td>92.00</td>\n",
       "      <td>7.300</td>\n",
       "      <td>1841.500000</td>\n",
       "      <td>1300.000000</td>\n",
       "    </tr>\n",
       "  </tbody>\n",
       "</table>\n",
       "</div>"
      ],
      "text/plain": [
       "                         budget       revenue  runtime  vote_average  \\\n",
       "original_language                                                      \n",
       "te                 4.000000e+07  1.000000e+08   159.00         7.500   \n",
       "id                 1.050000e+06  2.274881e+06   108.00         7.400   \n",
       "he                 6.666667e+05  3.708616e+06   108.00         7.400   \n",
       "fa                 2.450000e+05  2.250000e+05   102.25         7.375   \n",
       "ar                 0.000000e+00  0.000000e+00    92.00         7.300   \n",
       "\n",
       "                   crew_number  cast_number  \n",
       "original_language                            \n",
       "te                 4132.000000  2369.000000  \n",
       "id                 3615.000000  1742.000000  \n",
       "he                  831.333333  1261.333333  \n",
       "fa                  728.000000  1073.750000  \n",
       "ar                 1841.500000  1300.000000  "
      ]
     },
     "execution_count": 22,
     "metadata": {},
     "output_type": "execute_result"
    }
   ],
   "source": [
    "df_groubedby_lang = df.groupby('original_language').mean()\n",
    "df_groubedby_lang.sort_values('vote_average', ascending=False).head()"
   ]
  },
  {
   "cell_type": "markdown",
   "metadata": {},
   "source": [
    "http://www.lingoes.net/en/translator/langcode.htm\n",
    "### The most langauge with high rate is Telugu.\n",
    "#### Then, Indonesian, Hebrew, Farsi, Arabic"
   ]
  },
  {
   "cell_type": "markdown",
   "metadata": {},
   "source": [
    "<a id='conclusions'></a>\n",
    "## Limitaions\n",
    "\n",
    "Here are some limitation for this analysis:\n",
    "<ul>\n",
    "    <li>There are afew missing values, we used different ways to deal with missing values such as replacing with the mean or drop the record</li>\n",
    "    <li>There are not enough data about older movies, more recent movies have larger data, this could result in a biased analysis</li>\n",
    "    <li>Some older years have not any movies at all</li>\n",
    "    <li>The dataset is relatively small, only 5k record. We may need more data to increase our confidence interval</li>\n",
    "</ul>\n",
    "\n",
    "## Conclusions\n",
    "\n",
    "We have investigated the effect of some factors over the revenue and movie rate and concluded that:\n",
    "\n",
    "The crew number doesn't affect the revenue, while providing more budget will more likely results in higher revenue.\n",
    "\n",
    "Recent movies has more likelihood to acvieve more revenue.\n",
    "\n",
    "\n",
    "As for the movie rate,\n",
    "The cast number doesn't affect the movie rate, while longer runtime movies have more liklihood to gain higher rate. except for the some short movies that gained rate from 9 to 10.\n",
    "\n",
    "The first 5 languages that gained higher movie rates are:\n",
    "Telugu, Indonesian, Hebrew, Farsi, Arabic"
   ]
  },
  {
   "cell_type": "code",
   "execution_count": 23,
   "metadata": {},
   "outputs": [
    {
     "data": {
      "text/plain": [
       "0"
      ]
     },
     "execution_count": 23,
     "metadata": {},
     "output_type": "execute_result"
    }
   ],
   "source": [
    "from subprocess import call\n",
    "call(['python', '-m', 'nbconvert', 'Investigate_TMDB_Dataset.ipynb'])"
   ]
  }
 ],
 "metadata": {
  "kernelspec": {
   "display_name": "Python 3",
   "language": "python",
   "name": "python3"
  },
  "language_info": {
   "codemirror_mode": {
    "name": "ipython",
    "version": 3
   },
   "file_extension": ".py",
   "mimetype": "text/x-python",
   "name": "python",
   "nbconvert_exporter": "python",
   "pygments_lexer": "ipython3",
   "version": "3.7.7"
  }
 },
 "nbformat": 4,
 "nbformat_minor": 4
}
